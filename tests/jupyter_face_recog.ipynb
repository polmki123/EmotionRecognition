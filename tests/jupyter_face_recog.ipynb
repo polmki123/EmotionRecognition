{
 "metadata": {
  "language_info": {
   "codemirror_mode": {
    "name": "ipython",
    "version": 3
   },
   "file_extension": ".py",
   "mimetype": "text/x-python",
   "name": "python",
   "nbconvert_exporter": "python",
   "pygments_lexer": "ipython3",
   "version": "3.6.5-final"
  },
  "orig_nbformat": 2,
  "kernelspec": {
   "name": "python3",
   "display_name": "Python 3.6.5 64-bit ('Emotion': conda)",
   "metadata": {
    "interpreter": {
     "hash": "0b08f4acacedb56ab24d76c05a8a9db8d922aed9b00dbce08acf7df705b8fd33"
    }
   }
  }
 },
 "nbformat": 4,
 "nbformat_minor": 2,
 "cells": [
  {
   "cell_type": "code",
   "execution_count": 5,
   "metadata": {},
   "outputs": [],
   "source": [
    "#!pip install deepface\n",
    "import os \n",
    "# os.environ[\"CUDA_DEVICE_ORDER\"] = \"PCI_BUS_ID\"   # see issue #152\n",
    "# os.environ[\"CUDA_VISIBLE_DEVICES\"] = \"\"\n",
    "\n",
    "from deepface.basemodels import VGGFace, OpenFace, Facenet, FbDeepFace\n",
    "from deepface.commons import functions\n",
    "from deepface import DeepFace\n",
    "import numpy as np\n",
    "import tensorflow as tf \n",
    "\n",
    "# gpus = tf.config.experimental.list_physical_devices('GPU')\n",
    "# if gpus:\n",
    "#   try:\n",
    "#     # Currently, memory growth needs to be the same across GPUs\n",
    "#     for gpu in gpus:\n",
    "#       tf.config.experimental.set_memory_growth(gpu, False)\n",
    "#     logical_gpus = tf.config.experimental.list_logical_devices('GPU')\n",
    "#     print(len(gpus), \"Physical GPUs,\", len(logical_gpus), \"Logical GPUs\")\n",
    "#   except RuntimeError as e:\n",
    "#     # Memory growth must be set before GPUs have been initialized\n",
    "#     print(e)\n",
    "# tf.config.set_visible_devices([], 'GPU')\n",
    "# my_devices = tf.config.experimental.list_physical_devices(device_type='CPU')\n",
    "# tf.config.experimental.set_visible_devices(devices= my_devices, device_type='CPU')\n",
    "# tf.debugging.set_log_device_placement(True)\n",
    "#build face recognition model\n",
    "\n",
    "# model = VGGFace.loadModel()\n",
    "#model = Facenet.loadModel()\n",
    "#model = OpenFace.loadModel()\n",
    "#model = FbDeepFace.loadModel()\n",
    "# model.summary()"
   ]
  },
  {
   "cell_type": "code",
   "execution_count": 6,
   "metadata": {},
   "outputs": [
    {
     "output_type": "error",
     "ename": "NameError",
     "evalue": "name 'model' is not defined",
     "traceback": [
      "\u001b[1;31m---------------------------------------------------------------------------\u001b[0m",
      "\u001b[1;31mNameError\u001b[0m                                 Traceback (most recent call last)",
      "\u001b[1;32m<ipython-input-6-aa3ef71cc8b0>\u001b[0m in \u001b[0;36m<module>\u001b[1;34m\u001b[0m\n\u001b[1;32m----> 1\u001b[1;33m \u001b[0minput_shape\u001b[0m \u001b[1;33m=\u001b[0m \u001b[0mmodel\u001b[0m\u001b[1;33m.\u001b[0m\u001b[0mlayers\u001b[0m\u001b[1;33m[\u001b[0m\u001b[1;36m0\u001b[0m\u001b[1;33m]\u001b[0m\u001b[1;33m.\u001b[0m\u001b[0minput_shape\u001b[0m\u001b[1;33m[\u001b[0m\u001b[1;36m1\u001b[0m\u001b[1;33m:\u001b[0m\u001b[1;36m3\u001b[0m\u001b[1;33m]\u001b[0m\u001b[1;33m\u001b[0m\u001b[0m\n\u001b[0m\u001b[0;32m      2\u001b[0m \u001b[1;33m\u001b[0m\u001b[0m\n\u001b[0;32m      3\u001b[0m \u001b[0mprint\u001b[0m\u001b[1;33m(\u001b[0m\u001b[1;34m\"model input shape: \"\u001b[0m\u001b[1;33m,\u001b[0m \u001b[0mmodel\u001b[0m\u001b[1;33m.\u001b[0m\u001b[0mlayers\u001b[0m\u001b[1;33m[\u001b[0m\u001b[1;36m0\u001b[0m\u001b[1;33m]\u001b[0m\u001b[1;33m.\u001b[0m\u001b[0minput_shape\u001b[0m\u001b[1;33m[\u001b[0m\u001b[1;36m1\u001b[0m\u001b[1;33m:\u001b[0m\u001b[1;33m]\u001b[0m\u001b[1;33m)\u001b[0m\u001b[1;33m\u001b[0m\u001b[0m\n\u001b[0;32m      4\u001b[0m \u001b[0mprint\u001b[0m\u001b[1;33m(\u001b[0m\u001b[1;34m\"model output shape: \"\u001b[0m\u001b[1;33m,\u001b[0m \u001b[0mmodel\u001b[0m\u001b[1;33m.\u001b[0m\u001b[0mlayers\u001b[0m\u001b[1;33m[\u001b[0m\u001b[1;33m-\u001b[0m\u001b[1;36m1\u001b[0m\u001b[1;33m]\u001b[0m\u001b[1;33m.\u001b[0m\u001b[0minput_shape\u001b[0m\u001b[1;33m[\u001b[0m\u001b[1;33m-\u001b[0m\u001b[1;36m1\u001b[0m\u001b[1;33m]\u001b[0m\u001b[1;33m)\u001b[0m\u001b[1;33m\u001b[0m\u001b[0m\n\u001b[0;32m      5\u001b[0m \u001b[1;33m\u001b[0m\u001b[0m\n",
      "\u001b[1;31mNameError\u001b[0m: name 'model' is not defined"
     ]
    }
   ],
   "source": [
    "input_shape = model.layers[0].input_shape[1:3]\n",
    "\n",
    "print(\"model input shape: \", model.layers[0].input_shape[1:])\n",
    "print(\"model output shape: \", model.layers[-1].input_shape[-1])\n",
    "\n",
    "input_img = functions.load_image(\"dataset/img1.jpg\")\n",
    "img1 = functions.detect_face(img = input_img, detector_backend = 'opencv')\n",
    "# img1 = functions.preprocess_face(\"dataset/img1.jpg\")\n",
    "img1_representation = model.predict(img1)[0,:]"
   ]
  },
  {
   "cell_type": "code",
   "execution_count": null,
   "metadata": {},
   "outputs": [],
   "source": [
    "import cv2\n",
    "import base64\n",
    "\n",
    "encoded_data = uri.split(',')[1]\n",
    "nparr = np.fromstring(base64.b64decode(encoded_data), np.uint8)\n",
    "img = cv2.imdecode(nparr, cv2.IMREAD_COLOR)"
   ]
  },
  {
   "cell_type": "code",
   "execution_count": 4,
   "metadata": {},
   "outputs": [
    {
     "output_type": "stream",
     "name": "stdout",
     "text": [
      "1609846031.3681288\n",
      "1609846043.2759197\n",
      "Demography:\n",
      "{'age': '30', 'gender': 'Man', 'race': {'asian': 94.71626250244752, 'indian': 0.35993100426679875, 'black': 0.02114722864089779, 'white': 1.697661270061807, 'middle eastern': 0.039180772153259644, 'latino hispanic': 3.165824527491601}, 'emotion': {'angry': 0.0002513224899303168, 'disgust': 5.03396897499897e-06, 'fear': 0.0015755680578877218, 'happy': 99.75253939628601, 'sad': 0.006589197437278926, 'surprise': 0.001851868182711769, 'neutral': 0.23718781303614378}}\n",
      "Age:  30\n",
      "Gender:  Man\n",
      "Race:  {'asian': 94.71626250244752, 'indian': 0.35993100426679875, 'black': 0.02114722864089779, 'white': 1.697661270061807, 'middle eastern': 0.039180772153259644, 'latino hispanic': 3.165824527491601}\n",
      "Emotion:  {'angry': 0.0002513224899303168, 'disgust': 5.03396897499897e-06, 'fear': 0.0015755680578877218, 'happy': 99.75253939628601, 'sad': 0.006589197437278926, 'surprise': 0.001851868182711769, 'neutral': 0.23718781303614378}\n"
     ]
    }
   ],
   "source": [
    "# img = functions.load_image(\"dataset/img1.jpg\")\n",
    "import time\n",
    "\n",
    "print(time.time())\n",
    "demography = {}\n",
    "demography['age']       = DeepFace.analyze(\"dataset/test.jpg\"  , actions = ['age']     , detector_backend = 'opencv')['age']    \n",
    "demography['gender']    = DeepFace.analyze(\"dataset/test.jpg\"  , actions = ['gender']  , detector_backend = 'opencv')['gender'] \n",
    "demography['race']      = DeepFace.analyze(\"dataset/test.jpg\"  , actions = ['race']    , detector_backend = 'opencv')['race']   \n",
    "demography['emotion']   = DeepFace.analyze(\"dataset/test.jpg\"  , actions = ['emotion'] , detector_backend = 'opencv')['emotion']\n",
    "\n",
    "print(time.time())\n",
    "print(\"Demography:\")\n",
    "print(demography)\n",
    "\n",
    "#check response is a valid json\n",
    "print(\"Age: \"       , demography[\"age\"])\n",
    "print(\"Gender: \"    , demography[\"gender\"])\n",
    "print(\"Race: \"      , demography[\"race\"])\n",
    "print(\"Emotion: \"   , demography[\"emotion\"])\n"
   ]
  }
 ]
}